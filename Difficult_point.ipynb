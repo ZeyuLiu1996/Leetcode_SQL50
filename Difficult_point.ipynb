{
 "cells": [
  {
   "cell_type": "markdown",
   "metadata": {},
   "source": [
    "1148. Artical views\n",
    "\n",
    "    筛选唯一值：DISTINCT"
   ]
  },
  {
   "cell_type": "code",
   "execution_count": null,
   "metadata": {
    "vscode": {
     "languageId": "sql"
    }
   },
   "outputs": [],
   "source": [
    "/* Write your T-SQL query statement below */\n",
    "SELECT DISTINCT `author_id` AS id\n",
    "FROM Views\n",
    "WHERE `author_id` = `viewer_id` "
   ]
  },
  {
   "cell_type": "markdown",
   "metadata": {},
   "source": [
    "1683. Invalid Tweets\n",
    "\n",
    "    表示长度：LENGTH"
   ]
  },
  {
   "cell_type": "code",
   "execution_count": null,
   "metadata": {
    "vscode": {
     "languageId": "sql"
    }
   },
   "outputs": [],
   "source": [
    "/* Write your T-SQL query statement below */\n",
    "SELECT tweet_id \n",
    "FROM Tweets\n",
    "WHERE LENGTH(content) >15"
   ]
  },
  {
   "cell_type": "markdown",
   "metadata": {},
   "source": [
    "1378. \n",
    "\n",
    "    LEFT JOIN XXX ON\n",
    "[link](https://leetcode.com/problems/replace-employee-id-with-the-unique-identifier/?envType=study-plan-v2&envId=top-sql-50)"
   ]
  },
  {
   "cell_type": "code",
   "execution_count": null,
   "metadata": {
    "vscode": {
     "languageId": "sql"
    }
   },
   "outputs": [],
   "source": [
    "/* Write your T-SQL query statement below */\n",
    "SELECT  EmployeeUNI.`unique_id`, Employees.`name`\n",
    "FROM Employees\n",
    "LEFT JOIN EmployeeUNI ON Employees.`id` = EmployeeUNI.`id`"
   ]
  },
  {
   "cell_type": "markdown",
   "metadata": {},
   "source": [
    "聚合函数\n",
    "\n",
    "    count()...group by \n",
    "[link](https://leetcode.com/problems/customer-who-visited-but-did-not-make-any-transactions/description/?envType=study-plan-v2&envId=top-sql-50)"
   ]
  },
  {
   "cell_type": "code",
   "execution_count": null,
   "metadata": {
    "vscode": {
     "languageId": "sql"
    }
   },
   "outputs": [],
   "source": [
    "SELECT Visits.`customer_id`\n",
    ", COUNT(Visits.`customer_id`) AS `count_no_trans`\n",
    "FROM Visits\n",
    "LEFT JOIN Transactions ON Visits.`visit_id` = Transactions.`visit_id`\n",
    "WHERE Transactions.visit_id IS NULL\n",
    "GROUP BY Visits.`customer_id`;"
   ]
  },
  {
   "cell_type": "markdown",
   "metadata": {},
   "source": [
    "后一天比前一天高 ：自连接，日期添加\n",
    "\n",
    "[link](https://leetcode.com/problems/rising-temperature/description/?envType=study-plan-v2&envId=top-sql-50)"
   ]
  },
  {
   "cell_type": "code",
   "execution_count": null,
   "metadata": {
    "vscode": {
     "languageId": "sql"
    }
   },
   "outputs": [],
   "source": [
    "/* Write your T-SQL query statement below */\n",
    "SELECT w2.id\n",
    "\n",
    "FROM Weather AS w1\n",
    "LEFT JOIN Weather AS w2 ON w2.recordDate = DATE_ADD(w1.recordDate, INTERVAL 1 DAY)\n",
    "\n",
    "WHERE w1.temperature < w2.temperature"
   ]
  },
  {
   "cell_type": "markdown",
   "metadata": {},
   "source": [
    "着重学习FROM的子表，以及 LEFT JOIN的子表合并应用\n",
    "\n",
    "[link](https://leetcode.com/problems/average-time-of-process-per-machine/?envType=study-plan-v2&envId=top-sql-50)"
   ]
  },
  {
   "cell_type": "code",
   "execution_count": null,
   "metadata": {
    "vscode": {
     "languageId": "sql"
    }
   },
   "outputs": [],
   "source": [
    "# Write your MySQL query statement below\n",
    "SELECT a1.machine_id\n",
    ", ROUND(AVG(a2.`timestamp` - a1.`timestamp`),3) AS processing_time\n",
    "\n",
    "FROM (\n",
    "    SELECT *\n",
    "    FROM Activity\n",
    "    WHERE activity_type = 'start'\n",
    ") AS a1\n",
    "LEFT JOIN (\n",
    "    SELECT *\n",
    "    FROM Activity\n",
    "    WHERE activity_type = 'end'    \n",
    ") AS a2 \n",
    "ON a1.machine_id = a2.machine_id AND a1.process_id = a2.process_id\n",
    "\n",
    "GROUP BY a1.machine_id\n"
   ]
  },
  {
   "cell_type": "markdown",
   "metadata": {},
   "source": [
    "计算每个学生参加课程的数量：CROSS JOIN 联合JOIN， 注意 CROSS JOIN 的表与 LEFT JOIN表键匹配， 并请注意 JOIN的先后顺序有很大影响 \n",
    "\n",
    "[link](https://leetcode.com/problems/students-and-examinations/?envType=study-plan-v2&envId=top-sql-50)"
   ]
  },
  {
   "cell_type": "code",
   "execution_count": null,
   "metadata": {
    "vscode": {
     "languageId": "sql"
    }
   },
   "outputs": [],
   "source": [
    "# Write your MySQL query statement below\n",
    "SELECT \n",
    "Students.student_id, Students.student_name, Subjects.subject_name, COUNT(Examinations.subject_name) AS attended_exams\n",
    "\n",
    "FROM Students \n",
    "CROSS JOIN Subjects\n",
    "LEFT JOIN Examinations ON Students.student_id = Examinations.student_id AND Subjects.subject_name = Examinations.subject_name\n",
    "\n",
    "GROUP BY Students.student_id, Students.student_name, Subjects.subject_name\n",
    "\n",
    "ORDER BY Students.student_id, Subjects.subject_name"
   ]
  },
  {
   "cell_type": "markdown",
   "metadata": {
    "vscode": {
     "languageId": "sql"
    }
   },
   "source": [
    "检查产品是否合格 ————————使用IF判别式 或者 CASE\n",
    "\n",
    "[link](https://leetcode.com/problems/confirmation-rate/solutions/3563481/92-beats-easy-code-with-explanation-must-read/?envType=study-plan-v2&envId=top-sql-50)"
   ]
  },
  {
   "cell_type": "code",
   "execution_count": null,
   "metadata": {
    "vscode": {
     "languageId": "sql"
    }
   },
   "outputs": [],
   "source": [
    "SELECT Signups.user_id\n",
    ", ROUND(AVG(CASE \n",
    "    WHEN action = 'timeout' THEN 0\n",
    "    WHEN action = 'confirmed' THEN 1\n",
    "    ELSE 0\n",
    "    END),2) AS confirmation_rate\n",
    "\n",
    "FROM Signups\n",
    "LEFT JOIN Confirmations ON Signups.user_id = Confirmations.user_id\n",
    "\n",
    "GROUP BY user_id"
   ]
  },
  {
   "cell_type": "markdown",
   "metadata": {},
   "source": [
    "检查电影是否无聊 ————————使用%辨别奇偶\n",
    "\n",
    "[link](https://leetcode.com/problems/not-boring-movies/?envType=study-plan-v2&envId=top-sql-50)"
   ]
  },
  {
   "cell_type": "code",
   "execution_count": null,
   "metadata": {
    "vscode": {
     "languageId": "sql"
    }
   },
   "outputs": [],
   "source": [
    "# Write your MySQL query statement below\n",
    "SELECT * \n",
    "FROM Cinema\n",
    "WHERE id%2!=0 AND description != 'boring'\n",
    "ORDER BY rating DESC"
   ]
  },
  {
   "cell_type": "markdown",
   "metadata": {},
   "source": [
    "平均售价 ————————使用BETWEEN AND 处理时间范围 GROUP BY 处理聚合 ROUND处理保留小数 IFNULL 处理空值默认情况\n",
    "\n",
    "[link](https://leetcode.com/problems/average-selling-price/description/?envType=study-plan-v2&envId=top-sql-50)"
   ]
  },
  {
   "cell_type": "code",
   "execution_count": null,
   "metadata": {
    "vscode": {
     "languageId": "sql"
    }
   },
   "outputs": [],
   "source": [
    "SELECT Prices.product_id, ROUND(SUM(units*price)/SUM(units), 2) AS average_price \n",
    "\n",
    "FROM Prices \n",
    "INNER JOIN UnitsSold \n",
    "ON Prices.product_id = UnitsSold.product_id AND purchase_date BETWEEN start_date AND end_date\n",
    "\n",
    "GROUP BY product_id"
   ]
  },
  {
   "cell_type": "markdown",
   "metadata": {},
   "source": [
    " 课程参与百分率 ————————在SELECT中的子查询 ——————————标量子查询（当子SELECT结果为一个数时候，可以用在父SELECT中）\n",
    "\n",
    "[link](https://leetcode.com/problems/percentage-of-users-attended-a-contest/description/?envType=study-plan-v2&envId=top-sql-50)"
   ]
  },
  {
   "cell_type": "code",
   "execution_count": null,
   "metadata": {
    "vscode": {
     "languageId": "sql"
    }
   },
   "outputs": [],
   "source": [
    "# Write your MySQL query statement below\n",
    "\n",
    "SELECT \n",
    "    r.contest_id,\n",
    "    ROUND(COUNT(r.contest_id)/(\n",
    "        SELECT COUNT(user_id) FROM Users\n",
    "    )*100,2) AS `percentage`\n",
    "FROM \n",
    "    Register AS r\n",
    "GROUP BY \n",
    "    r.contest_id\n",
    "\n",
    "ORDER BY percentage DESC, contest_id ASC"
   ]
  },
  {
   "cell_type": "markdown",
   "metadata": {},
   "source": [
    "计算平均数和百分比，使用窗口函数\n",
    "\n",
    "[link](https://leetcode.com/problems/queries-quality-and-percentage/?envType=study-plan-v2&envId=top-sql-50)\n",
    "\n"
   ]
  },
  {
   "cell_type": "code",
   "execution_count": null,
   "metadata": {
    "vscode": {
     "languageId": "sql"
    }
   },
   "outputs": [],
   "source": [
    "# Write your MySQL query statement below\n",
    "SELECT \n",
    "    DISTINCT query_name\n",
    "    , ROUND(SUM(rating/`position`) OVER(PARTITION BY query_name)/COUNT(query_name) OVER(PARTITION BY query_name),2) as quality\n",
    "    , ROUND(SUM(IF(rating<3,1,0)) OVER(PARTITION BY query_name)/COUNT(query_name) OVER(PARTITION BY query_name)*100,2) AS poor_query_percentage\n",
    "\n",
    "FROM Queries\n",
    "WHERE query_name IS NOT NULL"
   ]
  },
  {
   "cell_type": "markdown",
   "metadata": {},
   "source": [
    "🥵 日期函数、计算平均数和百分比，使用GROUP,和COUNT& if判别式的计数方法\n",
    "\n",
    "DATE_FORMAT(trans_date, '%Y-%m')\n",
    "\n",
    "[link](https://leetcode.com/problems/monthly-transactions-i/?envType=study-plan-v2&envId=top-sql-50)\n"
   ]
  },
  {
   "cell_type": "code",
   "execution_count": null,
   "metadata": {
    "vscode": {
     "languageId": "sql"
    }
   },
   "outputs": [],
   "source": [
    "SELECT \n",
    "    DATE_FORMAT(trans_date, '%Y-%m') AS month\n",
    "    , country\n",
    "    , COUNT(id) AS trans_count\n",
    "    , SUM(IF(state = 'approved',1,0)) AS approved_count\n",
    "    , SUM(amount) AS trans_total_amount\n",
    "    , SUM(IF(state = 'approved',amount,0 )) AS approved_total_amount\n",
    "    \n",
    "FROM Transactions\n",
    "GROUP BY month, country"
   ]
  },
  {
   "cell_type": "markdown",
   "metadata": {},
   "source": [
    "🥵 CASE用法的使用，用于判断同一行某些参数的情况进行特征工程, 使用WHERE (xx) in XXX的语法\n",
    "\n",
    "[link](https://leetcode.com/problems/immediate-food-delivery-ii/description/?envType=study-plan-v2&envId=top-sql-50)\n"
   ]
  },
  {
   "cell_type": "code",
   "execution_count": null,
   "metadata": {
    "vscode": {
     "languageId": "sql"
    }
   },
   "outputs": [],
   "source": [
    "SELECT ROUND(AVG(CASE \n",
    "    WHEN d1.order_date = d1.customer_pref_delivery_date THEN 1 \n",
    "    ELSE 0 \n",
    "END)*100,2) AS `immediate_percentage`\n",
    "\n",
    "\n",
    "FROM Delivery AS d1\n",
    "INNER JOIN (\n",
    "    SELECT customer_id, MIN(order_date) AS `min`\n",
    "    FROM Delivery\n",
    "    GROUP BY customer_id\n",
    ") AS d2\n",
    "ON d1.customer_id = d2.customer_id AND d1.order_date = d2.`min`\n"
   ]
  },
  {
   "cell_type": "markdown",
   "metadata": {},
   "source": [
    "----------------------------------------------------------2024/6/22-------------------------------------------------"
   ]
  },
  {
   "cell_type": "markdown",
   "metadata": {},
   "source": [
    "🥵🥵🥵 使用WHERE （XX,XX）in 筛选单独行，之后CCOUNT DISTINCT取值，之后除以子列表的COUNT DISTINCT算出结论 \n",
    "\n",
    "[link](https://leetcode.com/problems/game-play-analysis-iv/description/?envType=study-plan-v2&envId=top-sql-50)\n"
   ]
  },
  {
   "cell_type": "code",
   "execution_count": null,
   "metadata": {
    "vscode": {
     "languageId": "sql"
    }
   },
   "outputs": [],
   "source": [
    "SELECT ROUND(COUNT(*)/ (SELECT COUNT(DISTINCT player_id) FROM Activity),2) AS fraction\n",
    "FROM Activity\n",
    "WHERE (player_id, DATE_SUB(event_date, INTERVAL 1 DAY)) \n",
    "IN (\n",
    "        SELECT player_id, MIN(event_date) AS min_event_date\n",
    "        FROM Activity\n",
    "        GROUP BY player_id\n",
    ")"
   ]
  },
  {
   "cell_type": "markdown",
   "metadata": {},
   "source": [
    " 注意日期为单引号\n",
    "\n",
    "[link](https://leetcode.com/problems/user-activity-for-the-past-30-days-i/?envType=study-plan-v2&envId=top-sql-50)"
   ]
  },
  {
   "cell_type": "code",
   "execution_count": null,
   "metadata": {
    "vscode": {
     "languageId": "sql"
    }
   },
   "outputs": [],
   "source": [
    "# Write your MySQL query statement below\n",
    "SELECT activity_date AS `day`, COUNT(DISTINCT session_id) AS active_users\n",
    "FROM Activity\n",
    "WHERE activity_date BETWEEN DATE_SUB('2019-07-27', INTERVAL 30 DAY) AND '2019-07-27'\n",
    "\n",
    "GROUP BY activity_date"
   ]
  },
  {
   "cell_type": "markdown",
   "metadata": {},
   "source": [
    "注意不完全GROUP禁止使用，请在子列表中使用后用WHERE进行筛选\n",
    "\n",
    "[link](https://leetcode.com/problems/product-sales-analysis-iii/?envType=study-plan-v2&envId=top-sql-50)"
   ]
  },
  {
   "cell_type": "code",
   "execution_count": null,
   "metadata": {
    "vscode": {
     "languageId": "sql"
    }
   },
   "outputs": [],
   "source": [
    "# Write your MySQL query statement below\n",
    "SELECT product_id,  `year` AS first_year, quantity, price\n",
    "\n",
    "FROM Sales\n",
    "\n",
    "WHERE  (product_id, `year`) IN (\n",
    "    SELECT product_id, MIN(`year`)\n",
    "    FROM Sales\n",
    "    GROUP BY `product_id`)\n",
    "\n"
   ]
  },
  {
   "cell_type": "markdown",
   "metadata": {},
   "source": [
    "-----------------------------------2024/6/23--------------------"
   ]
  },
  {
   "cell_type": "markdown",
   "metadata": {},
   "source": [
    " 筛选不重复的最大值\n",
    "\n",
    "[link](https://leetcode.com/problems/biggest-single-number/submissions/1297665028/?envType=study-plan-v2&envId=top-sql-50)"
   ]
  },
  {
   "cell_type": "code",
   "execution_count": null,
   "metadata": {
    "vscode": {
     "languageId": "sql"
    }
   },
   "outputs": [],
   "source": [
    "# Write your MySQL query statement below\n",
    "SELECT MAX(num) AS num\n",
    "FROM MyNumbers\n",
    "WHERE num IN (SELECT CASE \n",
    "        WHEN COUNT(num)> 1 THEN NULL \n",
    "        ELSE num\n",
    "        END AS single_number\n",
    "    FROM MyNumbers\n",
    "    GROUP BY num\n",
    "    HAVING single_number IS NOT NULL)\n"
   ]
  },
  {
   "cell_type": "markdown",
   "metadata": {},
   "source": [
    " 筛选全部购买商品的顾客，使用子查询\n",
    "\n",
    "[link](https://leetcode.com/problems/customers-who-bought-all-products/?envType=study-plan-v2&envId=top-sql-50)"
   ]
  },
  {
   "cell_type": "code",
   "execution_count": null,
   "metadata": {
    "vscode": {
     "languageId": "sql"
    }
   },
   "outputs": [],
   "source": [
    "SELECT customer_id \n",
    "FROM Customer\n",
    "GROUP BY  customer_id\n",
    "HAVING COUNT(DISTINCT product_key) = (SELECT COUNT(DISTINCT product_key) FROM Product)"
   ]
  },
  {
   "cell_type": "markdown",
   "metadata": {},
   "source": [
    "学会利用WHERE XX IN ()子查询来检索\n",
    "\n",
    "[link](https://leetcode.com/problems/primary-department-for-each-employee/description/?envType=study-plan-v2&envId=top-sql-50)"
   ]
  },
  {
   "cell_type": "code",
   "execution_count": null,
   "metadata": {
    "vscode": {
     "languageId": "sql"
    }
   },
   "outputs": [],
   "source": [
    "SELECT employee_id, department_id\n",
    "FROM Employee\n",
    "WHERE \n",
    "    primary_flag = 'Y' OR\n",
    "    employee_id IN (\n",
    "        SELECT employee_id\n",
    "        FROM Employee\n",
    "        GROUP BY employee_id\n",
    "        HAVING COUNT(employee_id) = 1\n",
    "    )"
   ]
  },
  {
   "cell_type": "markdown",
   "metadata": {},
   "source": [
    "第二种表达更为直观"
   ]
  },
  {
   "cell_type": "code",
   "execution_count": null,
   "metadata": {
    "vscode": {
     "languageId": "sql"
    }
   },
   "outputs": [],
   "source": [
    "SELECT employee_id, department_id\n",
    "FROM Employee\n",
    "WHERE primary_flag = 'Y'\n",
    "\n",
    "UNION \n",
    "\n",
    "SELECT employee_id, department_id\n",
    "FROM Employee\n",
    "WHERE(employee_id, department_id, primary_flag) IN (SELECT * FROM Employee GROUP BY employee_id HAVING COUNT(employee_id) = 1)\n"
   ]
  },
  {
   "cell_type": "markdown",
   "metadata": {},
   "source": [
    "🥵 学会利用lead() over() 窗口函数动态表示他之后的第几个\n",
    "\n",
    "[link](https://leetcode.com/problems/primary-department-for-each-employee/description/?envType=study-plan-v2&envId=top-sql-50)"
   ]
  },
  {
   "cell_type": "code",
   "execution_count": null,
   "metadata": {
    "vscode": {
     "languageId": "sql"
    }
   },
   "outputs": [],
   "source": [
    "CREATE TABLE Sales (\n",
    "    employee_id INT,\n",
    "    sales_date DATE,\n",
    "    sales_amount DECIMAL(10,2)\n",
    ");\n",
    "\n",
    "INSERT INTO Sales (employee_id, sales_date, sales_amount) VALUES\n",
    "(1, '2023-01-01', 150.00),\n",
    "(1, '2023-01-02', 200.00),\n",
    "(1, '2023-01-03', 250.00),\n",
    "(2, '2023-01-01', 220.00),\n",
    "(2, '2023-01-02', 180.00),\n",
    "(2, '2023-01-03', 240.00),\n",
    "(3, '2023-01-01', 190.00),\n",
    "(3, '2023-01-02', 210.00),\n",
    "(3, '2023-01-03', 230.00);\n"
   ]
  },
  {
   "cell_type": "markdown",
   "metadata": {},
   "source": [
    " windows 的组成\n",
    "[window_function] OVER (\n",
    "    [PARTITION BY partition_expression]\n",
    "    [ORDER BY sort_expression]\n",
    "    [ROWS|RANGE BETWEEN {start_value} AND {end_value}]\n",
    ")"
   ]
  },
  {
   "cell_type": "code",
   "execution_count": null,
   "metadata": {
    "vscode": {
     "languageId": "sql"
    }
   },
   "outputs": [],
   "source": [
    "SELECT\n",
    "    *,\n",
    "    MAX(sales_amount) OVER (PARTITION BY employee_id ORDER BY sales_date) AS cumulative_max\n",
    "FROM\n",
    "    Sales;\n",
    "\n",
    "\n"
   ]
  },
  {
   "cell_type": "code",
   "execution_count": null,
   "metadata": {
    "vscode": {
     "languageId": "sql"
    }
   },
   "outputs": [],
   "source": [
    "select distinct Num as ConsecutiveNums\n",
    "from Logs\n",
    "where (Id + 1, Num) in (select * from Logs) and (Id + 2, Num) in (select * from Logs)"
   ]
  },
  {
   "cell_type": "markdown",
   "metadata": {},
   "source": [
    "第二种更符合常识"
   ]
  },
  {
   "cell_type": "code",
   "execution_count": null,
   "metadata": {
    "vscode": {
     "languageId": "sql"
    }
   },
   "outputs": [],
   "source": [
    "# Write your MySQL query statement below\n",
    "with cte as (\n",
    "    select num,\n",
    "    lead(num,1) over() num1,\n",
    "    lead(num,2) over() num2\n",
    "    from logs\n",
    ")\n",
    "\n",
    "select distinct num AS ConsecutiveNums from cte where (num=num1) and (num=num2)"
   ]
  },
  {
   "cell_type": "markdown",
   "metadata": {},
   "source": [
    "🥵 学会利用UNION合并查询， 以及not in 查询\n",
    "\n",
    "[link](https://leetcode.com/problems/product-price-at-a-given-date/?envType=study-plan-v2&envId=top-sql-50)"
   ]
  },
  {
   "cell_type": "code",
   "execution_count": null,
   "metadata": {
    "vscode": {
     "languageId": "sql"
    }
   },
   "outputs": [],
   "source": [
    "# Write your MySQL query statement below\n",
    "select distinct product_id, 10 as price \n",
    "from Products \n",
    "where product_id not in(\n",
    "    select product_id \n",
    "    from Products \n",
    "    where change_date <='2019-08-16' \n",
    "    )\n",
    "\n",
    "\n",
    "union \n",
    "\n",
    "SELECT product_id, new_price as price \n",
    "from products \n",
    "\n",
    "where (product_id, change_date) IN (\n",
    "    select product_id, max(change_date)\n",
    "    from products \n",
    "    where change_date <='2019-08-16'\n",
    "    group by product_id \n",
    "    )\n"
   ]
  },
  {
   "cell_type": "markdown",
   "metadata": {},
   "source": [
    "🥵 学会利用窗口函数累计计算\n",
    "\n",
    "[link](https://leetcode.com/problems/last-person-to-fit-in-the-bus/?envType=study-plan-v2&envId=top-sql-50)"
   ]
  },
  {
   "cell_type": "code",
   "execution_count": null,
   "metadata": {
    "vscode": {
     "languageId": "sql"
    }
   },
   "outputs": [],
   "source": [
    "WITH C_Queue AS \n",
    "    (SELECT *, SUM(weight) OVER(ORDER BY turn ) AS cw\n",
    "    FROM Queue)\n",
    "\n",
    "SELECT person_name\n",
    "FROM C_Queue\n",
    "WHERE cw<=1000\n",
    "ORDER BY cw DESC\n",
    "LIMIT 1 "
   ]
  },
  {
   "cell_type": "markdown",
   "metadata": {},
   "source": [
    "🥵 对于有列表中没有的值时候使用UNION 可将没有的转换成0\n",
    "\n",
    "[link](https://leetcode.com/problems/count-salary-categories/?envType=study-plan-v2&envId=top-sql-50)"
   ]
  },
  {
   "cell_type": "code",
   "execution_count": null,
   "metadata": {
    "vscode": {
     "languageId": "sql"
    }
   },
   "outputs": [],
   "source": [
    "SELECT  \"Low Salary\" AS category, COUNT(\"Low Salary\") AS accounts_count\n",
    "FROM Accounts\n",
    "WHERE income < 20000\n",
    "\n",
    "UNION\n",
    "\n",
    "SELECT  \"Average Salary\" AS category, COUNT(\"Average Salary\") AS accounts_count\n",
    "FROM Accountsd\n",
    "WHERE income >= 20000 AND income <= 50000\n",
    "\n",
    "UNION\n",
    "\n",
    "SELECT  \"High Salary\" AS category, COUNT(\"High Salary\") AS accounts_count\n",
    "FROM Accounts\n",
    "WHERE income > 50000"
   ]
  },
  {
   "cell_type": "markdown",
   "metadata": {},
   "source": [
    "----------------------2024/6/24---------------------------"
   ]
  },
  {
   "cell_type": "markdown",
   "metadata": {},
   "source": [
    "🥵 相邻两行换位\n",
    "\n",
    "[link](https://leetcode.com/problems/exchange-seats/?envType=study-plan-v2&envId=top-sql-50)"
   ]
  },
  {
   "cell_type": "markdown",
   "metadata": {},
   "source": [
    "第一种传统方法："
   ]
  },
  {
   "cell_type": "code",
   "execution_count": null,
   "metadata": {
    "vscode": {
     "languageId": "sql"
    }
   },
   "outputs": [],
   "source": [
    "SELECT IF(id = (SELECT COUNT(id) FROM Seat) AND id%2!=0,id,IF(id%2!=0, id+1, id-1)) AS id, student\n",
    "FROM Seat\n",
    "ORDER BY id"
   ]
  },
  {
   "cell_type": "markdown",
   "metadata": {},
   "source": [
    "第二种使用窗口："
   ]
  },
  {
   "cell_type": "code",
   "execution_count": null,
   "metadata": {
    "vscode": {
     "languageId": "sql"
    }
   },
   "outputs": [],
   "source": [
    "SELECT ROW_NUMBER() OVER() id, student\n",
    "FROM seat\n",
    "ORDER BY IF(MOD(id, 2) = 0, id-1, id+1)"
   ]
  },
  {
   "cell_type": "markdown",
   "metadata": {},
   "source": [
    "使用UNION ALL 防止去重\n",
    "\n",
    "[link](https://leetcode.com/problems/movie-rating/submissions/1298480770/?envType=study-plan-v2&envId=top-sql-50)"
   ]
  },
  {
   "cell_type": "code",
   "execution_count": null,
   "metadata": {
    "vscode": {
     "languageId": "sql"
    }
   },
   "outputs": [],
   "source": [
    "# Write your MySQL query statement below\n",
    "WITH \n",
    "    rating_counts AS \n",
    "    (SELECT user_id, COUNT(user_id) AS cnt\n",
    "    FROM MovieRating\n",
    "    GROUP BY user_id)\n",
    "\n",
    "    , movie_ratings AS \n",
    "    (SELECT movie_id, AVG(rating) AS Rating\n",
    "    FROM MovieRating\n",
    "    WHERE DATE_FORMAT(created_at, '%M %Y') = 'February 2020'\n",
    "    GROUP BY movie_id)\n",
    "\n",
    "SELECT results FROM(\n",
    "    SELECT  name AS results\n",
    "    FROM rating_counts \n",
    "    JOIN Users ON rating_counts.user_id = Users.user_id\n",
    "    ORDER BY cnt DESC, name ASC\n",
    "    LIMIT 1) AS top_user\n",
    "\n",
    "UNION ALL -- 这里使用UNION ALL 防止去重\n",
    "\n",
    "SELECT results FROM(\n",
    "    SELECT title AS results\n",
    "    FROM movie_ratings JOIN Movies ON movie_ratings.movie_id = Movies.movie_id\n",
    "    ORDER BY Rating DESC , Movies.title ASC\n",
    "    LIMIT 1) AS top_movie"
   ]
  },
  {
   "cell_type": "markdown",
   "metadata": {},
   "source": [
    "🥵 使用窗口函数，滑行等距时间，使用OVER（RANGE）是按照值的区间，OVER（ROW）是按照索引列的区间, 注意SUM() OVER()/7，要在末尾除，这个整体为一个窗口\n",
    "\n",
    "[link](https://leetcode.com/problems/restaurant-growth/?envType=study-plan-v2&envId=top-sql-50)"
   ]
  },
  {
   "cell_type": "markdown",
   "metadata": {},
   "source": [
    "1. `XXX` **PRECEDING** AND CURRENT ROW\n",
    "2. CURRENT ROW AND `XXX` FOLLOWING\n",
    "3. `XXX` **PRECEDING** AND `XXX` FOLLOWING\n",
    "4. UNBOUNDED **PRECEDING** AND CURRENT ROW\n",
    "5. CURRENT ROW AND UNBOUNDED FOLLOWING\n",
    "6. UNBOUNDED **PRECEDING** AND UNBOUNDED FOLLOWING"
   ]
  },
  {
   "cell_type": "code",
   "execution_count": null,
   "metadata": {
    "vscode": {
     "languageId": "sql"
    }
   },
   "outputs": [],
   "source": [
    "WITH agg_table AS\n",
    "    (SELECT \n",
    "        DISTINCT visited_on\n",
    "        , SUM(amount) OVER(ORDER BY visited_on RANGE BETWEEN INTERVAL 6 DAY PRECEDING AND CURRENT ROW ) AS amount\n",
    "        , SUM(amount) OVER(ORDER BY visited_on RANGE BETWEEN INTERVAL 6 DAY PRECEDING AND CURRENT ROW )/7 AS average_amount\n",
    "        , MIN(visited_on) OVER() AS min_visited\n",
    "    FROM Customer)\n",
    "\n",
    "SELECT visited_on, amount, ROUND(average_amount,2) AS average_amount\n",
    "FROM agg_table\n",
    "WHERE visited_on >= min_visited+6"
   ]
  },
  {
   "cell_type": "markdown",
   "metadata": {},
   "source": [
    "🥵 熟练使用窗口函数，滑行等距时间，使用OVER（RANGE）是按照值的区间，OVER（ROW）是按照索引列的区间, 注意SUM() OVER()/7，要在末尾除，这个整体为一个窗口\n",
    "\n",
    "[link](https://leetcode.com/problems/friend-requests-ii-who-has-the-most-friends/?envType=study-plan-v2&envId=top-sql-50)"
   ]
  },
  {
   "cell_type": "code",
   "execution_count": null,
   "metadata": {
    "vscode": {
     "languageId": "sql"
    }
   },
   "outputs": [],
   "source": [
    "WITH \n",
    "    re_CTE as (SELECT requester_id, COUNT(requester_id) AS cnt FROM RequestAccepted GROUP BY requester_id)\n",
    "    , ac_CTE as (SELECT accepter_id, COUNT(accepter_id) AS cnt FROM RequestAccepted GROUP BY accepter_id)\n",
    "    , CTE AS (SELECT * FROM re_CTE UNION ALL SELECT * FROM ac_CTE)\n",
    "\n",
    "SELECT requester_id AS id, SUM(cnt) AS num\n",
    "FROM CTE \n",
    "GROUP BY requester_id\n",
    "ORDER BY num DESC \n",
    "LIMIT 1 "
   ]
  },
  {
   "cell_type": "markdown",
   "metadata": {},
   "source": [
    "🥵🥵 熟练使用窗口函数，使得判断计数_1>1, 计数_2=1\n",
    "\n",
    "[link](https://leetcode.com/problems/friend-requests-ii-who-has-the-most-friends/?envType=study-plan-v2&envId=top-sql-50)"
   ]
  },
  {
   "cell_type": "code",
   "execution_count": null,
   "metadata": {
    "vscode": {
     "languageId": "sql"
    }
   },
   "outputs": [],
   "source": [
    "WITH Total_table AS\n",
    "    (SELECT *\n",
    "    , COUNT(tiv_2015) OVER(PARTITION BY tiv_2015) AS cnt1\n",
    "    , COUNT(tiv_2015) OVER(PARTITION BY lat, lon) AS cnt2\n",
    "    FROM Insurance)\n",
    "\n",
    "SELECT ROUND(SUM(tiv_2016),2) AS tiv_2016 FROM Total_table \n",
    "WHERE cnt1>1 AND cnt2=1 "
   ]
  },
  {
   "cell_type": "markdown",
   "metadata": {},
   "source": [
    "🥵 熟练使用窗口函数，进行排序 RANK 以及 DENSE_RANK OVER（）,DENSE会使得同为\n",
    "名继续从第3名记录\n",
    "[link](https://leetcode.com/problems/department-top-three-salaries/?envType=study-plan-v2&envId=top-sql-50)"
   ]
  },
  {
   "cell_type": "code",
   "execution_count": null,
   "metadata": {
    "vscode": {
     "languageId": "sql"
    }
   },
   "outputs": [],
   "source": [
    "WITH CTE AS \n",
    "    (SELECT *, DENSE_RANK() OVER(PARTITION BY departmentId ORDER BY salary DESC) AS `rank`\n",
    "    FROM Employee )\n",
    "\n",
    "SELECT Department.name AS Department, CTE.name AS Employee, salary AS Salary\n",
    "FROM CTE \n",
    "JOIN Department ON CTE.departmentId = Department.id \n",
    "WHERE `rank` <= 3"
   ]
  },
  {
   "cell_type": "markdown",
   "metadata": {},
   "source": [
    "---------------------------2024/6/25------------------"
   ]
  },
  {
   "cell_type": "markdown",
   "metadata": {},
   "source": [
    "🥵 熟练使用concate,更新列数据\n",
    "\n",
    "[link](https://leetcode.com/problems/fix-names-in-a-table/solutions/1963494/detailed-explanation-of-query-and-functions-that-are-required-to-solve-this/?envType=study-plan-v2&envId=top-sql-50)"
   ]
  },
  {
   "cell_type": "code",
   "execution_count": null,
   "metadata": {
    "vscode": {
     "languageId": "sql"
    }
   },
   "outputs": [],
   "source": [
    "# Write your MySQL query statement below\n",
    "SELECT user_id, CONCAT(UPPER(LEFT(name,1)),LOWER(RIGHT(name,length(name)-1))) AS name\n",
    "FROM Users"
   ]
  },
  {
   "cell_type": "markdown",
   "metadata": {},
   "source": [
    "🥵 熟练使用LIKE \n",
    "\n",
    "[link](https://leetcode.com/problems/patients-with-a-condition/description/?envType=study-plan-v2&envId=top-sql-50)"
   ]
  },
  {
   "cell_type": "code",
   "execution_count": null,
   "metadata": {
    "vscode": {
     "languageId": "sql"
    }
   },
   "outputs": [],
   "source": [
    "# Write your MySQL query statement below\n",
    "SELECT *\n",
    "FROM Patients\n",
    "WHERE conditions LIKE '% DIAB1%' OR conditions LIKE 'DIAB1%' --注意第一个LIKE 字符串中间有一个空格"
   ]
  },
  {
   "cell_type": "markdown",
   "metadata": {},
   "source": [
    "🥵 删除重复值, 注意不能直接在子表中边查询边DELETE，应当再嵌套一层进行隔离\n",
    "\n",
    "[link](https://leetcode.com/problems/delete-duplicate-emails/?envType=study-plan-v2&envId=top-sql-50)"
   ]
  },
  {
   "cell_type": "code",
   "execution_count": null,
   "metadata": {
    "vscode": {
     "languageId": "sql"
    }
   },
   "outputs": [],
   "source": [
    "DELETE FROM Person\n",
    "WHERE(id, email) NOT IN (\n",
    "    -- 进行删除和表格筛选的隔离\n",
    "    SELECT * FROM(\n",
    "        SELECT MIN(id), email\n",
    "        FROM Person \n",
    "        GROUP BY email \n",
    "    ) AS tmp1 -- 子表必须有名称\n",
    ") -- 这里由于并不是个表 所以没有AS xxx"
   ]
  },
  {
   "cell_type": "markdown",
   "metadata": {},
   "source": [
    "🥵 筛选RANK为2的人，但注意出现WHERE没有筛选到时候用聚合函数来返回NULL\n",
    "\n",
    "[link](https://leetcode.com/problems/second-highest-salary/description/?envType=study-plan-v2&envId=top-sql-50)"
   ]
  },
  {
   "cell_type": "code",
   "execution_count": null,
   "metadata": {
    "vscode": {
     "languageId": "sql"
    }
   },
   "outputs": [],
   "source": [
    "WITH SalaryRanks AS (\n",
    "    SELECT \n",
    "        salary,\n",
    "        DENSE_RANK() OVER (ORDER BY salary DESC) AS `rank`\n",
    "    FROM Employee\n",
    ")\n",
    "SELECT \n",
    "    MAX(salary) AS SecondHighestSalary --使用聚合函数，使得当筛选无结果时候返回NULL，而不是不返回\n",
    "FROM SalaryRanks\n",
    "WHERE `rank` = 2;\n"
   ]
  }
 ],
 "metadata": {
  "kernelspec": {
   "display_name": "Zeyu_for_data_analyze_use",
   "language": "python",
   "name": "python3"
  },
  "language_info": {
   "codemirror_mode": {
    "name": "ipython",
    "version": 3
   },
   "file_extension": ".py",
   "mimetype": "text/x-python",
   "name": "python",
   "nbconvert_exporter": "python",
   "pygments_lexer": "ipython3",
   "version": "3.11.8"
  }
 },
 "nbformat": 4,
 "nbformat_minor": 2
}
