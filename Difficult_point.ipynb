{
 "cells": [
  {
   "cell_type": "markdown",
   "metadata": {},
   "source": [
    "1148. Artical views\n",
    "\n",
    "    筛选唯一值：DISTINCT"
   ]
  },
  {
   "cell_type": "code",
   "execution_count": null,
   "metadata": {
    "vscode": {
     "languageId": "sql"
    }
   },
   "outputs": [],
   "source": [
    "/* Write your T-SQL query statement below */\n",
    "SELECT DISTINCT `author_id` AS id\n",
    "FROM Views\n",
    "WHERE `author_id` = `viewer_id` "
   ]
  },
  {
   "cell_type": "markdown",
   "metadata": {},
   "source": [
    "1683. Invalid Tweets\n",
    "\n",
    "    表示长度：LEN"
   ]
  },
  {
   "cell_type": "code",
   "execution_count": null,
   "metadata": {
    "vscode": {
     "languageId": "sql"
    }
   },
   "outputs": [],
   "source": [
    "/* Write your T-SQL query statement below */\n",
    "SELECT `tweet_id`\n",
    "FROM Tweets \n",
    "WHERE LEN(`content`) > 15"
   ]
  },
  {
   "cell_type": "markdown",
   "metadata": {},
   "source": [
    "1378. \n",
    "\n",
    "    LEFT JOIN XXX ON"
   ]
  },
  {
   "cell_type": "code",
   "execution_count": null,
   "metadata": {
    "vscode": {
     "languageId": "sql"
    }
   },
   "outputs": [],
   "source": [
    "/* Write your T-SQL query statement below */\n",
    "SELECT  EmployeeUNI.`unique_id`, Employees.`name`\n",
    "FROM Employees\n",
    "LEFT JOIN EmployeeUNI ON Employees.`id` = EmployeeUNI.`id`"
   ]
  },
  {
   "cell_type": "markdown",
   "metadata": {},
   "source": [
    "🥵聚合函数\n",
    "\n",
    "    count()...group by \n",
    "[link](https://leetcode.com/problems/customer-who-visited-but-did-not-make-any-transactions/description/?envType=study-plan-v2&envId=top-sql-50)"
   ]
  },
  {
   "cell_type": "code",
   "execution_count": null,
   "metadata": {
    "vscode": {
     "languageId": "sql"
    }
   },
   "outputs": [],
   "source": [
    "SELECT Visits.`customer_id`\n",
    ", COUNT(Visits.`customer_id`) AS `count_no_trans`\n",
    "FROM Visits\n",
    "LEFT JOIN Transactions ON Visits.`visit_id` = Transactions.`visit_id`\n",
    "WHERE Transactions.visit_id IS NULL\n",
    "GROUP BY Visits.`customer_id`;"
   ]
  },
  {
   "cell_type": "markdown",
   "metadata": {},
   "source": [
    "🥵后一天比前一天高 ：自连接，日期添加\n",
    "\n",
    "[link](https://leetcode.com/problems/rising-temperature/description/?envType=study-plan-v2&envId=top-sql-50)"
   ]
  },
  {
   "cell_type": "code",
   "execution_count": null,
   "metadata": {
    "vscode": {
     "languageId": "sql"
    }
   },
   "outputs": [],
   "source": [
    "/* Write your T-SQL query statement below */\n",
    "SELECT W2.`id`\n",
    "FROM Weather AS W1 \n",
    "JOIN Weather AS W2 ON W2.`recordDate` = DATEADD(DAY,1,W1.`recordDate`)\n",
    "WHERE W2.`temperature`>W1.`temperature`"
   ]
  },
  {
   "cell_type": "markdown",
   "metadata": {},
   "source": [
    "🥵🥵 计算开始与结束的差值,取平均，并保留三位小数 ——————着重学习 JOIN不止是键的匹配，而且带有where的用法，如无匹配键值，则类似广播机制\n",
    "\n",
    "[link](https://leetcode.com/problems/average-time-of-process-per-machine/?envType=study-plan-v2&envId=top-sql-50)"
   ]
  },
  {
   "cell_type": "code",
   "execution_count": null,
   "metadata": {
    "vscode": {
     "languageId": "sql"
    }
   },
   "outputs": [],
   "source": [
    "/* Write your T-SQL query statement below */\n",
    "select a1.machine_id\n",
    ", ROUND(ABS(AVG(a1.`timestamp`-a2.`timestamp`)),3) AS processing_time\n",
    "FROM Activity AS a1\n",
    "JOIN Activity AS a2 \n",
    "ON a1.machine_id=a2.machine_id AND a1.process_id=a2.process_id\n",
    "AND a1.activity_type='start' AND a2.activity_type='end'\n",
    "GROUP BY a1.machine_id\n"
   ]
  },
  {
   "cell_type": "markdown",
   "metadata": {},
   "source": [
    "🥵🥵 计算每个学生参加课程的数量：CROSS JOIN 联合JOIN\n",
    "\n",
    "[link](https://leetcode.com/problems/students-and-examinations/?envType=study-plan-v2&envId=top-sql-50)"
   ]
  },
  {
   "cell_type": "code",
   "execution_count": null,
   "metadata": {
    "vscode": {
     "languageId": "sql"
    }
   },
   "outputs": [],
   "source": [
    "/* Write your T-SQL query statement below */\n",
    "SELECT Students.`student_id`\n",
    ", Students.`student_name`\n",
    ", Subjects.`subject_name`\n",
    ", COUNT(Examinations.`subject_name`) AS attended_exams \n",
    "\n",
    "FROM Students\n",
    "CROSS JOIN Subjects\n",
    "LEFT JOIN Examinations ON Students.`student_id` = Examinations.`student_id` AND Subjects.`subject_name` = Examinations.`subject_name`\n",
    "\n",
    "GROUP BY Students.`student_id`, Students.`student_name`, Subjects.`subject_name`, Examinations.`subject_name`"
   ]
  },
  {
   "cell_type": "markdown",
   "metadata": {},
   "source": [
    "🥵🥵 使用JOIN筛选经理手下员工大于5个的 ————————注意HAVING 用法\n",
    "\n",
    "[link](https://leetcode.com/problems/managers-with-at-least-5-direct-reports/description/?envType=study-plan-v2&envId=top-sql-50)"
   ]
  },
  {
   "cell_type": "code",
   "execution_count": null,
   "metadata": {
    "vscode": {
     "languageId": "sql"
    }
   },
   "outputs": [],
   "source": [
    "/* Write your T-SQL query statement below */\n",
    "SELECT E1.name\n",
    "\n",
    "FROM Employee E1 JOIN  Employee E2 ON E1.`id` = E2.`managerId`\n",
    "\n",
    "GROUP BY E1.name\n",
    "\n",
    "HAVING COUNT(E2.managerId) >=5"
   ]
  },
  {
   "cell_type": "markdown",
   "metadata": {
    "vscode": {
     "languageId": "sql"
    }
   },
   "source": [
    "🥵 检查产品是否合格 ————————使用IF判别式!!\n",
    "\n",
    "[link](https://leetcode.com/problems/confirmation-rate/solutions/3563481/92-beats-easy-code-with-explanation-must-read/?envType=study-plan-v2&envId=top-sql-50)"
   ]
  },
  {
   "cell_type": "code",
   "execution_count": null,
   "metadata": {
    "vscode": {
     "languageId": "sql"
    }
   },
   "outputs": [],
   "source": [
    "-- Write your MySQL query statement below\n",
    "SELECT S.`user_id`, AVG(IF(C.`action` = 'confirmed',1,0)) AS `confirmation_rate` \n",
    "\n",
    "FROM Signups AS S\n",
    "LEFT JOIN Confirmations AS C ON S.`user_id` = C.`user_id`\n",
    "\n",
    "GROUP BY `user_id`"
   ]
  },
  {
   "cell_type": "markdown",
   "metadata": {},
   "source": [
    "🥵 检查电影是否无聊 ————————使用%辨别奇偶\n",
    "\n",
    "[link](https://leetcode.com/problems/not-boring-movies/?envType=study-plan-v2&envId=top-sql-50)"
   ]
  },
  {
   "cell_type": "code",
   "execution_count": null,
   "metadata": {
    "vscode": {
     "languageId": "sql"
    }
   },
   "outputs": [],
   "source": [
    "# Write your MySQL query statement below\n",
    "SELECT * \n",
    "FROM Cinema\n",
    "WHERE id%2!=0 AND description != 'boring'\n",
    "ORDER BY rating DESC"
   ]
  },
  {
   "cell_type": "markdown",
   "metadata": {},
   "source": [
    "🥵🥵 平均售价 ————————使用BETWEEN AND 处理时间范围 GROUP BY 处理聚合 ROUND处理保留小数 IFNULL 处理空值默认情况\n",
    "\n",
    "[link](https://leetcode.com/problems/average-selling-price/description/?envType=study-plan-v2&envId=top-sql-50)"
   ]
  },
  {
   "cell_type": "code",
   "execution_count": null,
   "metadata": {
    "vscode": {
     "languageId": "sql"
    }
   },
   "outputs": [],
   "source": [
    "SELECT p.`product_id`, IFNULL(ROUND(SUM(p.`price`*u.`units` )/SUM(u.`units`),2),0) AS `average_price`\n",
    "\n",
    "FROM Prices AS p\n",
    "LEFT JOIN UnitsSold AS u ON p.`product_id` = u.`product_id` AND\n",
    "(u.purchase_date BETWEEN start_date AND end_date)\n",
    "\n",
    "GROUP BY p.`product_id`"
   ]
  },
  {
   "cell_type": "markdown",
   "metadata": {},
   "source": [
    "🥵🥵 课程参与百分率 ————————使用子查询 与不带GROUP BY的 COUNT， 得知聚合函数也可不聚合，整体计算，聚合后算各个集合\n",
    "\n",
    "[link](https://leetcode.com/problems/average-selling-price/description/?envType=study-plan-v2&envId=top-sql-50)"
   ]
  },
  {
   "cell_type": "code",
   "execution_count": null,
   "metadata": {
    "vscode": {
     "languageId": "sql"
    }
   },
   "outputs": [],
   "source": [
    "# Write your MySQL query statement below\n",
    "\n",
    "SELECT \n",
    "    r.contest_id,\n",
    "    ROUND(COUNT(r.contest_id)/(\n",
    "        SELECT COUNT(user_id) FROM Users\n",
    "    )*100,2) AS `percentage`\n",
    "FROM \n",
    "    Register AS r\n",
    "GROUP BY \n",
    "    r.contest_id\n",
    "\n",
    "ORDER BY percentage DESC, contest_id ASC"
   ]
  },
  {
   "cell_type": "markdown",
   "metadata": {},
   "source": [
    "🥵 计算平均数和百分比，使用GROUP,和COUNT& if判别式的计数方法\n",
    "\n",
    "[link](https://leetcode.com/problems/queries-quality-and-percentage/?envType=study-plan-v2&envId=top-sql-50)\n",
    "\n",
    "COUNT 记录0，1，尽管是布尔值，但是不会记录NULL"
   ]
  },
  {
   "cell_type": "code",
   "execution_count": null,
   "metadata": {
    "vscode": {
     "languageId": "sql"
    }
   },
   "outputs": [],
   "source": [
    "SELECT query_name\n",
    ", ROUND(AVG(rating/`position`),2) AS quality\n",
    ", ROUND(COUNT(if(rating<3,1,NULL))/COUNT(query_name)*100, 2) AS poor_query_percentage\n",
    "FROM Queries\n",
    "GROUP BY query_name"
   ]
  },
  {
   "cell_type": "markdown",
   "metadata": {},
   "source": [
    "🥵 日期函数、计算平均数和百分比，使用GROUP,和COUNT& if判别式的计数方法\n",
    "\n",
    "DATE_FORMAT(trans_date, '%Y-%m')\n",
    "\n",
    "[link](https://leetcode.com/problems/monthly-transactions-i/?envType=study-plan-v2&envId=top-sql-50)\n"
   ]
  },
  {
   "cell_type": "code",
   "execution_count": null,
   "metadata": {
    "vscode": {
     "languageId": "sql"
    }
   },
   "outputs": [],
   "source": [
    "# Write your MySQL query statement below\n",
    "SELECT DATE_FORMAT(trans_date, '%Y-%m') AS month\n",
    ", country\n",
    ", COUNT(ID) AS trans_count\n",
    ", COUNT(IF(state = 'approved',1,NULL) ) AS approved_count\n",
    ", SUM(amount) AS trans_total_amount\n",
    ", SUM(IF(state = 'approved',amount,0)) AS approved_total_amount\n",
    "\n",
    "FROM Transactions\n",
    "GROUP BY month, country "
   ]
  },
  {
   "cell_type": "markdown",
   "metadata": {},
   "source": [
    "🥵🥵🥵 CASE用法的使用，用于判断同一行某些参数的情况进行特征工程, 使用WHERE (xx) in XXX的语法\n",
    "\n",
    "[link](https://leetcode.com/problems/immediate-food-delivery-ii/description/?envType=study-plan-v2&envId=top-sql-50)\n"
   ]
  },
  {
   "cell_type": "code",
   "execution_count": null,
   "metadata": {
    "vscode": {
     "languageId": "sql"
    }
   },
   "outputs": [],
   "source": [
    "SELECT ROUND(AVG(CASE \n",
    "    WHEN d1.order_date = d1.customer_pref_delivery_date THEN 1 \n",
    "    ELSE 0 \n",
    "END)*100,2) AS `immediate_percentage`\n",
    "\n",
    "\n",
    "FROM Delivery AS d1\n",
    "INNER JOIN (\n",
    "    SELECT customer_id, MIN(order_date) AS `min`\n",
    "    FROM Delivery\n",
    "    GROUP BY customer_id\n",
    ") AS d2\n",
    "ON d1.customer_id = d2.customer_id AND d1.order_date = d2.`min`\n"
   ]
  }
 ],
 "metadata": {
  "language_info": {
   "name": "python"
  }
 },
 "nbformat": 4,
 "nbformat_minor": 2
}
