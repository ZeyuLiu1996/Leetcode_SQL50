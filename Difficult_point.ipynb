{
 "cells": [
  {
   "cell_type": "markdown",
   "metadata": {},
   "source": [
    "1148. Artical views\n",
    "\n",
    "    筛选唯一值：DISTINCT"
   ]
  },
  {
   "cell_type": "code",
   "execution_count": null,
   "metadata": {
    "vscode": {
     "languageId": "sql"
    }
   },
   "outputs": [],
   "source": [
    "/* Write your T-SQL query statement below */\n",
    "SELECT DISTINCT `author_id` AS id\n",
    "FROM Views\n",
    "WHERE `author_id` = `viewer_id` "
   ]
  },
  {
   "cell_type": "markdown",
   "metadata": {},
   "source": [
    "1683. Invalid Tweets\n",
    "\n",
    "    表示长度：LEN"
   ]
  },
  {
   "cell_type": "code",
   "execution_count": null,
   "metadata": {
    "vscode": {
     "languageId": "sql"
    }
   },
   "outputs": [],
   "source": [
    "/* Write your T-SQL query statement below */\n",
    "SELECT tweet_id \n",
    "FROM Tweets\n",
    "WHERE LENGTH(content) >15"
   ]
  },
  {
   "cell_type": "markdown",
   "metadata": {},
   "source": [
    "1378. \n",
    "\n",
    "    LEFT JOIN XXX ON\n",
    "[link](https://leetcode.com/problems/replace-employee-id-with-the-unique-identifier/?envType=study-plan-v2&envId=top-sql-50)"
   ]
  },
  {
   "cell_type": "code",
   "execution_count": null,
   "metadata": {
    "vscode": {
     "languageId": "sql"
    }
   },
   "outputs": [],
   "source": [
    "/* Write your T-SQL query statement below */\n",
    "SELECT  EmployeeUNI.`unique_id`, Employees.`name`\n",
    "FROM Employees\n",
    "LEFT JOIN EmployeeUNI ON Employees.`id` = EmployeeUNI.`id`"
   ]
  },
  {
   "cell_type": "markdown",
   "metadata": {},
   "source": [
    "聚合函数\n",
    "\n",
    "    count()...group by \n",
    "[link](https://leetcode.com/problems/customer-who-visited-but-did-not-make-any-transactions/description/?envType=study-plan-v2&envId=top-sql-50)"
   ]
  },
  {
   "cell_type": "code",
   "execution_count": null,
   "metadata": {
    "vscode": {
     "languageId": "sql"
    }
   },
   "outputs": [],
   "source": [
    "SELECT Visits.`customer_id`\n",
    ", COUNT(Visits.`customer_id`) AS `count_no_trans`\n",
    "FROM Visits\n",
    "LEFT JOIN Transactions ON Visits.`visit_id` = Transactions.`visit_id`\n",
    "WHERE Transactions.visit_id IS NULL\n",
    "GROUP BY Visits.`customer_id`;"
   ]
  },
  {
   "cell_type": "markdown",
   "metadata": {},
   "source": [
    "后一天比前一天高 ：自连接，日期添加\n",
    "\n",
    "[link](https://leetcode.com/problems/rising-temperature/description/?envType=study-plan-v2&envId=top-sql-50)"
   ]
  },
  {
   "cell_type": "code",
   "execution_count": null,
   "metadata": {
    "vscode": {
     "languageId": "sql"
    }
   },
   "outputs": [],
   "source": [
    "/* Write your T-SQL query statement below */\n",
    "SELECT w2.id\n",
    "\n",
    "FROM Weather AS w1\n",
    "LEFT JOIN Weather AS w2 ON w2.recordDate = DATE_ADD(w1.recordDate, INTERVAL 1 DAY)\n",
    "\n",
    "WHERE w1.temperature < w2.temperature"
   ]
  },
  {
   "cell_type": "markdown",
   "metadata": {},
   "source": [
    "着重学习FROM的子表，以及 LEFT JOIN的子表合并应用\n",
    "\n",
    "[link](https://leetcode.com/problems/average-time-of-process-per-machine/?envType=study-plan-v2&envId=top-sql-50)"
   ]
  },
  {
   "cell_type": "code",
   "execution_count": null,
   "metadata": {
    "vscode": {
     "languageId": "sql"
    }
   },
   "outputs": [],
   "source": [
    "# Write your MySQL query statement below\n",
    "SELECT a1.machine_id\n",
    ", ROUND(AVG(a2.`timestamp` - a1.`timestamp`),3) AS processing_time\n",
    "\n",
    "FROM (\n",
    "    SELECT *\n",
    "    FROM Activity\n",
    "    WHERE activity_type = 'start'\n",
    ") AS a1\n",
    "LEFT JOIN (\n",
    "    SELECT *\n",
    "    FROM Activity\n",
    "    WHERE activity_type = 'end'    \n",
    ") AS a2 \n",
    "ON a1.machine_id = a2.machine_id AND a1.process_id = a2.process_id\n",
    "\n",
    "GROUP BY a1.machine_id\n"
   ]
  },
  {
   "cell_type": "markdown",
   "metadata": {},
   "source": [
    "计算每个学生参加课程的数量：CROSS JOIN 联合JOIN， 注意 CROSS JOIN 的表与 LEFT JOIN表键匹配， 并请注意 JOIN的先后顺序有很大影响 \n",
    "\n",
    "[link](https://leetcode.com/problems/students-and-examinations/?envType=study-plan-v2&envId=top-sql-50)"
   ]
  },
  {
   "cell_type": "code",
   "execution_count": null,
   "metadata": {
    "vscode": {
     "languageId": "sql"
    }
   },
   "outputs": [],
   "source": [
    "# Write your MySQL query statement below\n",
    "SELECT \n",
    "Students.student_id, Students.student_name, Subjects.subject_name, COUNT(Examinations.subject_name) AS attended_exams\n",
    "\n",
    "FROM Students \n",
    "CROSS JOIN Subjects\n",
    "LEFT JOIN Examinations ON Students.student_id = Examinations.student_id AND Subjects.subject_name = Examinations.subject_name\n",
    "\n",
    "GROUP BY Students.student_id, Students.student_name, Subjects.subject_name\n",
    "\n",
    "ORDER BY Students.student_id, Subjects.subject_name"
   ]
  },
  {
   "cell_type": "markdown",
   "metadata": {
    "vscode": {
     "languageId": "sql"
    }
   },
   "source": [
    "检查产品是否合格 ————————使用IF判别式 或者 CASE\n",
    "\n",
    "[link](https://leetcode.com/problems/confirmation-rate/solutions/3563481/92-beats-easy-code-with-explanation-must-read/?envType=study-plan-v2&envId=top-sql-50)"
   ]
  },
  {
   "cell_type": "code",
   "execution_count": null,
   "metadata": {
    "vscode": {
     "languageId": "sql"
    }
   },
   "outputs": [],
   "source": [
    "SELECT Signups.user_id\n",
    ", ROUND(AVG(CASE \n",
    "    WHEN action = 'timeout' THEN 0\n",
    "    WHEN action = 'confirmed' THEN 1\n",
    "    ELSE 0\n",
    "    END),2) AS confirmation_rate\n",
    "\n",
    "FROM Signups\n",
    "LEFT JOIN Confirmations ON Signups.user_id = Confirmations.user_id\n",
    "\n",
    "GROUP BY user_id"
   ]
  },
  {
   "cell_type": "markdown",
   "metadata": {},
   "source": [
    "检查电影是否无聊 ————————使用%辨别奇偶\n",
    "\n",
    "[link](https://leetcode.com/problems/not-boring-movies/?envType=study-plan-v2&envId=top-sql-50)"
   ]
  },
  {
   "cell_type": "code",
   "execution_count": null,
   "metadata": {
    "vscode": {
     "languageId": "sql"
    }
   },
   "outputs": [],
   "source": [
    "# Write your MySQL query statement below\n",
    "SELECT * \n",
    "FROM Cinema\n",
    "WHERE id%2!=0 AND description != 'boring'\n",
    "ORDER BY rating DESC"
   ]
  },
  {
   "cell_type": "markdown",
   "metadata": {},
   "source": [
    "平均售价 ————————使用BETWEEN AND 处理时间范围 GROUP BY 处理聚合 ROUND处理保留小数 IFNULL 处理空值默认情况\n",
    "\n",
    "[link](https://leetcode.com/problems/average-selling-price/description/?envType=study-plan-v2&envId=top-sql-50)"
   ]
  },
  {
   "cell_type": "code",
   "execution_count": null,
   "metadata": {
    "vscode": {
     "languageId": "sql"
    }
   },
   "outputs": [],
   "source": [
    "SELECT Prices.product_id, ROUND(SUM(units*price)/SUM(units), 2) AS average_price \n",
    "\n",
    "FROM Prices \n",
    "INNER JOIN UnitsSold \n",
    "ON Prices.product_id = UnitsSold.product_id AND purchase_date BETWEEN start_date AND end_date\n",
    "\n",
    "GROUP BY product_id"
   ]
  },
  {
   "cell_type": "markdown",
   "metadata": {},
   "source": [
    "🥵🥵🥵🥵 课程参与百分率 ————————在SELECT中的子查询 ——————————标量子查询（当子SELECT结果为一个数时候，可以用在父SELECT中）\n",
    "\n",
    "[link](https://leetcode.com/problems/percentage-of-users-attended-a-contest/description/?envType=study-plan-v2&envId=top-sql-50)"
   ]
  },
  {
   "cell_type": "code",
   "execution_count": null,
   "metadata": {
    "vscode": {
     "languageId": "sql"
    }
   },
   "outputs": [],
   "source": [
    "# Write your MySQL query statement below\n",
    "\n",
    "SELECT \n",
    "    r.contest_id,\n",
    "    ROUND(COUNT(r.contest_id)/(\n",
    "        SELECT COUNT(user_id) FROM Users\n",
    "    )*100,2) AS `percentage`\n",
    "FROM \n",
    "    Register AS r\n",
    "GROUP BY \n",
    "    r.contest_id\n",
    "\n",
    "ORDER BY percentage DESC, contest_id ASC"
   ]
  },
  {
   "cell_type": "markdown",
   "metadata": {},
   "source": [
    "🥵 计算平均数和百分比，使用GROUP,和CASE\n",
    "\n",
    "[link](https://leetcode.com/problems/queries-quality-and-percentage/?envType=study-plan-v2&envId=top-sql-50)\n",
    "\n",
    "COUNT 记录0，1，尽管是布尔值，但是不会记录NULL"
   ]
  },
  {
   "cell_type": "code",
   "execution_count": null,
   "metadata": {
    "vscode": {
     "languageId": "sql"
    }
   },
   "outputs": [],
   "source": [
    "SELECT query_name\n",
    ", ROUND(SUM(rating/`position`)/COUNT(query_name),2) AS quality\n",
    ", ROUND(SUM(CASE \n",
    "    WHEN rating <3 THEN 1\n",
    "    ELSE 0\n",
    "    END)/COUNT(query_name)*100,2)AS poor_query_percentage\n",
    "\n",
    "FROM Queries\n",
    "\n",
    "GROUP BY query_name"
   ]
  },
  {
   "cell_type": "markdown",
   "metadata": {},
   "source": [
    "🥵 日期函数、计算平均数和百分比，使用GROUP,和COUNT& if判别式的计数方法\n",
    "\n",
    "DATE_FORMAT(trans_date, '%Y-%m')\n",
    "\n",
    "[link](https://leetcode.com/problems/monthly-transactions-i/?envType=study-plan-v2&envId=top-sql-50)\n"
   ]
  },
  {
   "cell_type": "code",
   "execution_count": null,
   "metadata": {
    "vscode": {
     "languageId": "sql"
    }
   },
   "outputs": [],
   "source": [
    "# Write your MySQL query statement below\n",
    "SELECT DATE_FORMAT(trans_date, '%Y-%m') AS month\n",
    ", country\n",
    ", COUNT(ID) AS trans_count\n",
    ", COUNT(IF(state = 'approved',1,NULL) ) AS approved_count\n",
    ", SUM(amount) AS trans_total_amount\n",
    ", SUM(IF(state = 'approved',amount,0)) AS approved_total_amount\n",
    "\n",
    "FROM Transactions\n",
    "GROUP BY month, country "
   ]
  },
  {
   "cell_type": "markdown",
   "metadata": {},
   "source": [
    "🥵 CASE用法的使用，用于判断同一行某些参数的情况进行特征工程, 使用WHERE (xx) in XXX的语法\n",
    "\n",
    "[link](https://leetcode.com/problems/immediate-food-delivery-ii/description/?envType=study-plan-v2&envId=top-sql-50)\n"
   ]
  },
  {
   "cell_type": "code",
   "execution_count": null,
   "metadata": {
    "vscode": {
     "languageId": "sql"
    }
   },
   "outputs": [],
   "source": [
    "SELECT ROUND(AVG(CASE \n",
    "    WHEN d1.order_date = d1.customer_pref_delivery_date THEN 1 \n",
    "    ELSE 0 \n",
    "END)*100,2) AS `immediate_percentage`\n",
    "\n",
    "\n",
    "FROM Delivery AS d1\n",
    "INNER JOIN (\n",
    "    SELECT customer_id, MIN(order_date) AS `min`\n",
    "    FROM Delivery\n",
    "    GROUP BY customer_id\n",
    ") AS d2\n",
    "ON d1.customer_id = d2.customer_id AND d1.order_date = d2.`min`\n"
   ]
  },
  {
   "cell_type": "markdown",
   "metadata": {},
   "source": [
    "----------------------------------------------------------2024/6/22-------------------------------------------------"
   ]
  },
  {
   "cell_type": "markdown",
   "metadata": {},
   "source": [
    "🥵🥵 使用WHERE （XX,XX）in 筛选单独行，之后CCOUNT DISTINCT取值，之后除以子列表的COUNT DISTINCT算出结论 \n",
    "\n",
    "[link](https://leetcode.com/problems/game-play-analysis-iv/description/?envType=study-plan-v2&envId=top-sql-50)\n"
   ]
  },
  {
   "cell_type": "code",
   "execution_count": null,
   "metadata": {
    "vscode": {
     "languageId": "sql"
    }
   },
   "outputs": [],
   "source": [
    "# Write your MySQL query statement below\n",
    "SELECT\n",
    "  ROUND(COUNT(DISTINCT player_id) / (SELECT COUNT(DISTINCT player_id) FROM Activity), 2) AS fraction\n",
    "FROM\n",
    "  Activity\n",
    "WHERE\n",
    "  (player_id, DATE_SUB(event_date, INTERVAL 1 DAY))\n",
    "  IN (\n",
    "    SELECT player_id, MIN(event_date) AS first_login FROM Activity GROUP BY player_id\n",
    "  )"
   ]
  },
  {
   "cell_type": "markdown",
   "metadata": {},
   "source": [
    "🥵 注意日期为单引号\n",
    "\n",
    "[link](https://leetcode.com/problems/user-activity-for-the-past-30-days-i/?envType=study-plan-v2&envId=top-sql-50)"
   ]
  },
  {
   "cell_type": "code",
   "execution_count": null,
   "metadata": {
    "vscode": {
     "languageId": "sql"
    }
   },
   "outputs": [],
   "source": [
    "# Write your MySQL query statement below\n",
    "SELECT activity_date AS `day`, COUNT(DISTINCT session_id) AS active_users\n",
    "FROM Activity\n",
    "WHERE activity_date BETWEEN DATE_SUB('2019-07-27', INTERVAL 30 DAY) AND '2019-07-27'\n",
    "\n",
    "GROUP BY activity_date"
   ]
  },
  {
   "cell_type": "markdown",
   "metadata": {},
   "source": [
    "🥵 注意不完全GROUP禁止使用，请在子列表中使用后用WHERE进行筛选\n",
    "\n",
    "[link](https://leetcode.com/problems/product-sales-analysis-iii/?envType=study-plan-v2&envId=top-sql-50)"
   ]
  },
  {
   "cell_type": "code",
   "execution_count": null,
   "metadata": {
    "vscode": {
     "languageId": "sql"
    }
   },
   "outputs": [],
   "source": [
    "# Write your MySQL query statement below\n",
    "SELECT product_id,  `year` AS first_year, quantity, price\n",
    "\n",
    "FROM Sales\n",
    "\n",
    "WHERE  (product_id, `year`) IN (\n",
    "    SELECT product_id, MIN(`year`)\n",
    "    FROM Sales\n",
    "    GROUP BY `product_id`)\n",
    "\n"
   ]
  },
  {
   "cell_type": "markdown",
   "metadata": {},
   "source": [
    "-----------------------------------2024/6/23--------------------"
   ]
  },
  {
   "cell_type": "markdown",
   "metadata": {},
   "source": [
    "🥵 筛选不重复的最大值\n",
    "\n",
    "[link](https://leetcode.com/problems/biggest-single-number/submissions/1297665028/?envType=study-plan-v2&envId=top-sql-50)"
   ]
  },
  {
   "cell_type": "code",
   "execution_count": null,
   "metadata": {
    "vscode": {
     "languageId": "sql"
    }
   },
   "outputs": [],
   "source": [
    "# Write your MySQL query statement below\n",
    "SELECT MAX(num) AS num\n",
    "FROM MyNumbers\n",
    "WHERE num IN (SELECT CASE \n",
    "        WHEN COUNT(num)> 1 THEN NULL \n",
    "        ELSE num\n",
    "        END AS single_number\n",
    "    FROM MyNumbers\n",
    "    GROUP BY num\n",
    "    HAVING single_number IS NOT NULL)\n"
   ]
  },
  {
   "cell_type": "markdown",
   "metadata": {},
   "source": [
    "🥵 筛选全部购买商品的顾客，使用子查询\n",
    "\n",
    "[link](https://leetcode.com/problems/biggest-single-number/submissions/1297665028/?envType=study-plan-v2&envId=top-sql-50)"
   ]
  },
  {
   "cell_type": "code",
   "execution_count": null,
   "metadata": {
    "vscode": {
     "languageId": "sql"
    }
   },
   "outputs": [],
   "source": [
    "SELECT customer_id \n",
    "FROM Customer\n",
    "GROUP BY  customer_id\n",
    "HAVING COUNT(DISTINCT product_key) = (SELECT COUNT(DISTINCT product_key) FROM Product)"
   ]
  },
  {
   "cell_type": "markdown",
   "metadata": {},
   "source": [
    "🥵🥵 学会利用WHERE XX IN ()子查询来检索\n",
    "\n",
    "[link](https://leetcode.com/problems/primary-department-for-each-employee/description/?envType=study-plan-v2&envId=top-sql-50)"
   ]
  },
  {
   "cell_type": "code",
   "execution_count": null,
   "metadata": {
    "vscode": {
     "languageId": "sql"
    }
   },
   "outputs": [],
   "source": [
    "SELECT employee_id, department_id\n",
    "FROM Employee\n",
    "WHERE \n",
    "    primary_flag = 'Y' OR\n",
    "    employee_id IN (\n",
    "        SELECT employee_id\n",
    "        FROM Employee\n",
    "        GROUP BY employee_id\n",
    "        HAVING COUNT(employee_id) = 1\n",
    "    )"
   ]
  },
  {
   "cell_type": "markdown",
   "metadata": {},
   "source": [
    "🥵🥵🥵 学会利用WITH XXX AS ()构建子表， 并且使用 lead（xxx，n）over() 窗口函数动态表示他之后的第几个\n",
    "\n",
    "[link](https://leetcode.com/problems/primary-department-for-each-employee/description/?envType=study-plan-v2&envId=top-sql-50)"
   ]
  },
  {
   "cell_type": "code",
   "execution_count": null,
   "metadata": {
    "vscode": {
     "languageId": "sql"
    }
   },
   "outputs": [],
   "source": [
    "-- CREATE TABLE Sales (\n",
    "--     employee_id INT,\n",
    "--     sales_date DATE,\n",
    "--     sales_amount DECIMAL(10,2)\n",
    "-- );\n",
    "\n",
    "INSERT INTO Sales (employee_id, sales_date, sales_amount) VALUES\n",
    "(1, '2023-01-01', 150.00),\n",
    "(1, '2023-01-02', 200.00),\n",
    "(1, '2023-01-03', 250.00),\n",
    "(2, '2023-01-01', 220.00),\n",
    "(2, '2023-01-02', 180.00),\n",
    "(2, '2023-01-03', 240.00),\n",
    "(3, '2023-01-01', 190.00),\n",
    "(3, '2023-01-02', 210.00),\n",
    "(3, '2023-01-03', 230.00);\n"
   ]
  },
  {
   "cell_type": "code",
   "execution_count": null,
   "metadata": {
    "vscode": {
     "languageId": "sql"
    }
   },
   "outputs": [],
   "source": [
    "SELECT\n",
    "    employee_id,\n",
    "    sales_date,\n",
    "    sales_amount,\n",
    "    LEAD(sales_amount, 1) OVER (PARTITION BY employee_id ORDER BY sales_date) AS next_day_sales\n",
    "FROM\n",
    "    Sales;\n"
   ]
  },
  {
   "cell_type": "code",
   "execution_count": null,
   "metadata": {
    "vscode": {
     "languageId": "sql"
    }
   },
   "outputs": [],
   "source": [
    "# Write your MySQL query statement below\n",
    "with cte as (\n",
    "    select \n",
    "    num,\n",
    "    lead(num,1) over() num1,\n",
    "    lead(num,2) over() num2\n",
    "    from logs\n",
    ")\n",
    "\n",
    "select  distinct num as ConsecutiveNums \n",
    "from cte \n",
    "where (num = num1) and (num = num2)\n",
    "\n",
    "/*或者下面的方式*/\n",
    "\n",
    "select distinct Num as ConsecutiveNums\n",
    "from Logs\n",
    "where (Id + 1, Num) in (select * from Logs) and (Id + 2, Num) in (select * from Logs)"
   ]
  },
  {
   "cell_type": "markdown",
   "metadata": {},
   "source": [
    "🥵🥵🥵 学会利用UNION合并查询， 以及not in 查询\n",
    "\n",
    "[link](https://leetcode.com/problems/primary-department-for-each-employee/description/?envType=study-plan-v2&envId=top-sql-50)"
   ]
  },
  {
   "cell_type": "code",
   "execution_count": null,
   "metadata": {
    "vscode": {
     "languageId": "sql"
    }
   },
   "outputs": [],
   "source": [
    "# Write your MySQL query statement below\n",
    "select distinct product_id, 10 as price \n",
    "from Products \n",
    "where product_id not in(\n",
    "    select product_id \n",
    "    from Products \n",
    "    where change_date <='2019-08-16' \n",
    "    )\n",
    "\n",
    "\n",
    "union \n",
    "\n",
    "SELECT product_id, new_price as price \n",
    "from products \n",
    "\n",
    "where (product_id, change_date) IN (\n",
    "    select product_id, max(change_date)\n",
    "    from products \n",
    "    where change_date <='2019-08-16'\n",
    "    group by product_id \n",
    "    )\n"
   ]
  },
  {
   "cell_type": "markdown",
   "metadata": {},
   "source": [
    "🥵🥵🥵 学会按顺序累计和运算\n",
    "\n",
    "[link](https://leetcode.com/problems/last-person-to-fit-in-the-bus/?envType=study-plan-v2&envId=top-sql-50)"
   ]
  },
  {
   "cell_type": "code",
   "execution_count": null,
   "metadata": {
    "vscode": {
     "languageId": "sql"
    }
   },
   "outputs": [],
   "source": [
    "# Write your MySQL query statement below\n",
    "SELECT q1.person_name\n",
    "FROM Queue q1 JOIN Queue q2 ON q1.turn >= q2.turn\n",
    "GROUP BY q1.turn\n",
    "HAVING SUM(q2.weight) <= 1000\n",
    "ORDER BY SUM(q2.weight) DESC\n",
    "LIMIT 1"
   ]
  },
  {
   "cell_type": "markdown",
   "metadata": {},
   "source": [
    "🥵🥵🥵 对于有列表中没有的值时候使用UNION 可将没有的转换成0\n",
    "\n",
    "[link](https://leetcode.com/problems/count-salary-categories/?envType=study-plan-v2&envId=top-sql-50)"
   ]
  },
  {
   "cell_type": "code",
   "execution_count": null,
   "metadata": {
    "vscode": {
     "languageId": "sql"
    }
   },
   "outputs": [],
   "source": [
    "SELECT  \"Low Salary\" AS category, COUNT(\"Low Salary\") AS accounts_count\n",
    "FROM Accounts\n",
    "WHERE income < 20000\n",
    "\n",
    "UNION\n",
    "\n",
    "SELECT  \"Average Salary\" AS category, COUNT(\"Average Salary\") AS accounts_count\n",
    "FROM Accounts\n",
    "WHERE income >= 20000 AND income <= 50000\n",
    "\n",
    "UNION\n",
    "\n",
    "SELECT  \"High Salary\" AS category, COUNT(\"High Salary\") AS accounts_count\n",
    "FROM Accounts\n",
    "WHERE income > 50000"
   ]
  }
 ],
 "metadata": {
  "kernelspec": {
   "display_name": "Zeyu_for_data_analyze_use",
   "language": "python",
   "name": "python3"
  },
  "language_info": {
   "codemirror_mode": {
    "name": "ipython",
    "version": 3
   },
   "file_extension": ".py",
   "mimetype": "text/x-python",
   "name": "python",
   "nbconvert_exporter": "python",
   "pygments_lexer": "ipython3",
   "version": "3.11.8"
  }
 },
 "nbformat": 4,
 "nbformat_minor": 2
}
